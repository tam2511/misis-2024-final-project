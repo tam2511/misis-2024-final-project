{
 "cells": [
  {
   "cell_type": "code",
   "execution_count": 4,
   "id": "4fc61338",
   "metadata": {
    "pycharm": {
     "name": "#%%\n"
    }
   },
   "outputs": [],
   "source": [
    "import requests\n",
    "from base64 import b64decode\n",
    "\n",
    "response = requests.post('http://127.0.0.1:8889/generate_video', json={\n",
    "  \"text\": \"рыба летит в кремль\",\n",
    "  \"num_steps\": 6,\n",
    "  \"negative_prompt\": \"bad quality, worse quality, low resolution\",\n",
    "  \"num_frames\": 8\n",
    "})"
   ]
  },
  {
   "cell_type": "code",
   "execution_count": 7,
   "id": "10ea069c",
   "metadata": {
    "pycharm": {
     "name": "#%%\n"
    }
   },
   "outputs": [],
   "source": [
    "bytes_gif = b64decode(response.json().encode('utf-8'))\n",
    "with open('result.gif', 'wb') as wf:\n",
    "    wf.write(bytes_gif)"
   ]
  },
  {
   "cell_type": "code",
   "execution_count": null,
   "id": "c5276f6d",
   "metadata": {
    "pycharm": {
     "name": "#%%\n"
    }
   },
   "outputs": [],
   "source": []
  }
 ],
 "metadata": {
  "kernelspec": {
   "display_name": "Python 3 (ipykernel)",
   "language": "python",
   "name": "python3"
  },
  "language_info": {
   "codemirror_mode": {
    "name": "ipython",
    "version": 3
   },
   "file_extension": ".py",
   "mimetype": "text/x-python",
   "name": "python",
   "nbconvert_exporter": "python",
   "pygments_lexer": "ipython3",
   "version": "3.9.13"
  }
 },
 "nbformat": 4,
 "nbformat_minor": 5
}